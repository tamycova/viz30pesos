{
 "cells": [
  {
   "cell_type": "markdown",
   "metadata": {},
   "source": [
    "LA API USADA: https://github.com/jdepoix/youtube-transcript-api\n",
    "VIDEO DE PRUEBA: https://www.youtube.com/watch?v=u541CRTZD_w (general iturraga)"
   ]
  },
  {
   "cell_type": "code",
   "execution_count": null,
   "metadata": {},
   "outputs": [],
   "source": [
    "from youtube_transcript_api import YouTubeTranscriptApi\n",
    "\n",
    "data = YouTubeTranscriptApi.get_transcript(\"u541CRTZD_w\", languages=['es'])"
   ]
  },
  {
   "cell_type": "code",
   "execution_count": null,
   "metadata": {},
   "outputs": [],
   "source": []
  }
 ],
 "metadata": {
  "kernelspec": {
   "display_name": "Python 3",
   "language": "python",
   "name": "python3"
  }
 },
 "nbformat": 4,
 "nbformat_minor": 2
}
